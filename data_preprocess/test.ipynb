{
 "cells": [
  {
   "cell_type": "code",
   "execution_count": 1,
   "metadata": {},
   "outputs": [
    {
     "name": "stderr",
     "output_type": "stream",
     "text": [
      "/home/llong/anaconda3/envs/gxj/lib/python3.11/site-packages/sentence_transformers/cross_encoder/CrossEncoder.py:11: TqdmExperimentalWarning: Using `tqdm.autonotebook.tqdm` in notebook mode. Use `tqdm.tqdm` instead to force console mode (e.g. in jupyter console)\n",
      "  from tqdm.autonotebook import tqdm, trange\n"
     ]
    }
   ],
   "source": [
    "from sentence_transformers import SentenceTransformer\n",
    "model = SentenceTransformer('/data0/pretrained-models/paraphrase-MiniLM-L6-v2', device='cuda:4')"
   ]
  },
  {
   "cell_type": "code",
   "execution_count": 2,
   "metadata": {},
   "outputs": [
    {
     "ename": "KeyboardInterrupt",
     "evalue": "",
     "output_type": "error",
     "traceback": [
      "\u001b[0;31m---------------------------------------------------------------------------\u001b[0m",
      "\u001b[0;31mKeyboardInterrupt\u001b[0m                         Traceback (most recent call last)",
      "Cell \u001b[0;32mIn[2], line 44\u001b[0m\n\u001b[1;32m     42\u001b[0m output_dir \u001b[38;5;241m=\u001b[39m os\u001b[38;5;241m.\u001b[39mpath\u001b[38;5;241m.\u001b[39mjoin(SPIDER_EMB_PATH, db_id, table_id\u001b[38;5;241m.\u001b[39mreplace(\u001b[38;5;124m'\u001b[39m\u001b[38;5;124m.csv\u001b[39m\u001b[38;5;124m'\u001b[39m, \u001b[38;5;124m'\u001b[39m\u001b[38;5;124m.pt\u001b[39m\u001b[38;5;124m'\u001b[39m))\n\u001b[1;32m     43\u001b[0m \u001b[38;5;66;03m# save (table_emb_padded, table_mask) to output_dir\u001b[39;00m\n\u001b[0;32m---> 44\u001b[0m \u001b[43mtorch\u001b[49m\u001b[38;5;241;43m.\u001b[39;49m\u001b[43msave\u001b[49m\u001b[43m(\u001b[49m\u001b[43m(\u001b[49m\u001b[43mtable_emb_padded\u001b[49m\u001b[43m,\u001b[49m\u001b[43m \u001b[49m\u001b[43mtable_mask\u001b[49m\u001b[43m)\u001b[49m\u001b[43m,\u001b[49m\u001b[43m \u001b[49m\u001b[43moutput_dir\u001b[49m\u001b[43m)\u001b[49m\n",
      "File \u001b[0;32m~/anaconda3/envs/gxj/lib/python3.11/site-packages/torch/serialization.py:627\u001b[0m, in \u001b[0;36msave\u001b[0;34m(obj, f, pickle_module, pickle_protocol, _use_new_zipfile_serialization, _disable_byteorder_record)\u001b[0m\n\u001b[1;32m    624\u001b[0m _check_save_filelike(f)\n\u001b[1;32m    626\u001b[0m \u001b[38;5;28;01mif\u001b[39;00m _use_new_zipfile_serialization:\n\u001b[0;32m--> 627\u001b[0m \u001b[43m    \u001b[49m\u001b[38;5;28;43;01mwith\u001b[39;49;00m\u001b[43m \u001b[49m\u001b[43m_open_zipfile_writer\u001b[49m\u001b[43m(\u001b[49m\u001b[43mf\u001b[49m\u001b[43m)\u001b[49m\u001b[43m \u001b[49m\u001b[38;5;28;43;01mas\u001b[39;49;00m\u001b[43m \u001b[49m\u001b[43mopened_zipfile\u001b[49m\u001b[43m:\u001b[49m\n\u001b[1;32m    628\u001b[0m \u001b[43m        \u001b[49m\u001b[43m_save\u001b[49m\u001b[43m(\u001b[49m\u001b[43mobj\u001b[49m\u001b[43m,\u001b[49m\u001b[43m \u001b[49m\u001b[43mopened_zipfile\u001b[49m\u001b[43m,\u001b[49m\u001b[43m \u001b[49m\u001b[43mpickle_module\u001b[49m\u001b[43m,\u001b[49m\u001b[43m \u001b[49m\u001b[43mpickle_protocol\u001b[49m\u001b[43m,\u001b[49m\u001b[43m \u001b[49m\u001b[43m_disable_byteorder_record\u001b[49m\u001b[43m)\u001b[49m\n\u001b[1;32m    629\u001b[0m \u001b[43m        \u001b[49m\u001b[38;5;28;43;01mreturn\u001b[39;49;00m\n",
      "File \u001b[0;32m~/anaconda3/envs/gxj/lib/python3.11/site-packages/torch/serialization.py:475\u001b[0m, in \u001b[0;36m_open_zipfile_writer_file.__exit__\u001b[0;34m(self, *args)\u001b[0m\n\u001b[1;32m    474\u001b[0m \u001b[38;5;28;01mdef\u001b[39;00m \u001b[38;5;21m__exit__\u001b[39m(\u001b[38;5;28mself\u001b[39m, \u001b[38;5;241m*\u001b[39margs) \u001b[38;5;241m-\u001b[39m\u001b[38;5;241m>\u001b[39m \u001b[38;5;28;01mNone\u001b[39;00m:\n\u001b[0;32m--> 475\u001b[0m     \u001b[38;5;28;43mself\u001b[39;49m\u001b[38;5;241;43m.\u001b[39;49m\u001b[43mfile_like\u001b[49m\u001b[38;5;241;43m.\u001b[39;49m\u001b[43mwrite_end_of_file\u001b[49m\u001b[43m(\u001b[49m\u001b[43m)\u001b[49m\n\u001b[1;32m    476\u001b[0m     \u001b[38;5;28;01mif\u001b[39;00m \u001b[38;5;28mself\u001b[39m\u001b[38;5;241m.\u001b[39mfile_stream \u001b[38;5;129;01mis\u001b[39;00m \u001b[38;5;129;01mnot\u001b[39;00m \u001b[38;5;28;01mNone\u001b[39;00m:\n\u001b[1;32m    477\u001b[0m         \u001b[38;5;28mself\u001b[39m\u001b[38;5;241m.\u001b[39mfile_stream\u001b[38;5;241m.\u001b[39mclose()\n",
      "\u001b[0;31mKeyboardInterrupt\u001b[0m: "
     ]
    }
   ],
   "source": [
    "SPIDER_CSV_PATH='/data0/datasets/spider/database_csv'\n",
    "SPIDER_EMB_PATH = '/data0/gxj/db_emb'\n",
    "import os, torch\n",
    "import numpy as np\n",
    "import pandas as pd\n",
    "\n",
    "for db_id in os.listdir(SPIDER_CSV_PATH):\n",
    "    db_path = os.path.join(SPIDER_CSV_PATH, db_id)\n",
    "    emb_path = os.path.join(SPIDER_EMB_PATH, db_id)\n",
    "    if not os.path.exists(emb_path):\n",
    "        os.makedirs(emb_path)\n",
    "    for table_id in os.listdir(db_path):\n",
    "        print(db_id, table_id)\n",
    "        if not table_id.endswith('.csv'):\n",
    "            continue\n",
    "        \n",
    "        torch.manual_seed(11)\n",
    "        np.random.seed(11)\n",
    "        row_size = 50\n",
    "        column_size = 50\n",
    "\n",
    "        embedding_dim = model.get_sentence_embedding_dimension()\n",
    "        table_df = pd.read_csv(os.path.join(SPIDER_CSV_PATH, db_id, table_id), encoding='utf-8', low_memory=False)\n",
    "\n",
    "        if len(table_df) > row_size:\n",
    "            table_df = table_df.sample(n=row_size)\n",
    "        table = table_df.to_numpy()\n",
    "        table = table.astype(str)\n",
    "        table_emb = np.zeros((table.shape[0], table.shape[1], embedding_dim))\n",
    "        for j, row in enumerate(table):\n",
    "            row_emb = model.encode(row)\n",
    "            table_emb[j] = row_emb\n",
    "        \n",
    "        column_truncation = np.random.permutation(range(table_emb.shape[1]))[:column_size]\n",
    "        table_emb = table_emb[:, column_truncation, :]\n",
    "\n",
    "        table_emb_padded = np.zeros((row_size, 100, table_emb.shape[2]))\n",
    "        table_emb_padded[:table_emb.shape[0], :table_emb.shape[1], :] = table_emb\n",
    "        table_mask = np.zeros((row_size, 100))\n",
    "        table_mask[:table_emb.shape[0], :table_emb.shape[1]] = 1\n",
    "\n",
    "        \n",
    "        output_dir = os.path.join(SPIDER_EMB_PATH, db_id, table_id.replace('.csv', '.pt'))\n",
    "        # save (table_emb_padded, table_mask) to output_dir\n",
    "        torch.save((table_emb_padded, table_mask), output_dir)\n",
    "\n"
   ]
  }
 ],
 "metadata": {
  "kernelspec": {
   "display_name": "gxj",
   "language": "python",
   "name": "python3"
  },
  "language_info": {
   "codemirror_mode": {
    "name": "ipython",
    "version": 3
   },
   "file_extension": ".py",
   "mimetype": "text/x-python",
   "name": "python",
   "nbconvert_exporter": "python",
   "pygments_lexer": "ipython3",
   "version": "3.11.9"
  }
 },
 "nbformat": 4,
 "nbformat_minor": 2
}
